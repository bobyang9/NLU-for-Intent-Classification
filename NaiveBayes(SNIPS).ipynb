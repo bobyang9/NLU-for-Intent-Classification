{
 "cells": [
  {
   "cell_type": "code",
   "execution_count": 13,
   "metadata": {},
   "outputs": [],
   "source": [
    "import numpy as np\n",
    "from sklearn.metrics import classification_report, f1_score\n",
    "from load_data import *"
   ]
  },
  {
   "cell_type": "code",
   "execution_count": 2,
   "metadata": {},
   "outputs": [],
   "source": [
    "TRAIN_PATH = './snips/snips_train_actual.csv'\n",
    "TEST_PATH = './snips/snips_test_actual.csv'"
   ]
  },
  {
   "cell_type": "code",
   "execution_count": 3,
   "metadata": {},
   "outputs": [],
   "source": [
    "data_loader = SnipsDataLoader(TRAIN_PATH, None, TEST_PATH)\n",
    "data_loader.split_train_valid(valid_size=0.05, keep_class_ratios=True)"
   ]
  },
  {
   "cell_type": "code",
   "execution_count": 4,
   "metadata": {},
   "outputs": [],
   "source": [
    "X_train, y_train = data_loader.get_train_data()\n",
    "X_valid, y_valid = data_loader.get_valid_data()"
   ]
  },
  {
   "cell_type": "code",
   "execution_count": 5,
   "metadata": {},
   "outputs": [],
   "source": [
    "feature_extractor = FeatureExtractor(X_train, X_valid)\n",
    "feature_extractor.extract_features(keep_words_threshold=5)\n",
    "X_train = feature_extractor.get_train_encodings()\n",
    "X_valid = feature_extractor.get_valid_encodings()"
   ]
  },
  {
   "cell_type": "code",
   "execution_count": 6,
   "metadata": {},
   "outputs": [],
   "source": [
    "class MultinomialNaiveBayes():\n",
    "    def __init__(self):\n",
    "        pass\n",
    "    \n",
    "    def fit(self, X, y):\n",
    "        num_examples, vocab_size = X.shape\n",
    "        num_labels = np.amax(y) + 1\n",
    "        y_one_hot = np.eye(num_labels)[y]\n",
    "        X_row_sum = np.sum(X, axis=1, keepdims=True)\n",
    "        \n",
    "        self.vocab_probs = (1 + np.dot(X.T, y_one_hot)) / (vocab_size + np.dot(X_row_sum.T, y_one_hot))\n",
    "        self.prior_probs = np.mean(y_one_hot, axis=0)\n",
    "        self.vocab_log_probs = np.log(self.vocab_probs)\n",
    "        self.prior_log_probs = np.log(self.prior_probs)\n",
    "    \n",
    "    def predict(self, X):\n",
    "        post_probs = np.dot(X, self.vocab_log_probs) + self.prior_log_probs\n",
    "        predictions = np.argmax(post_probs, axis=1)\n",
    "        return predictions"
   ]
  },
  {
   "cell_type": "code",
   "execution_count": 7,
   "metadata": {},
   "outputs": [],
   "source": [
    "def calculate_accuracy(predictions, targets):\n",
    "    return np.mean(predictions == targets)"
   ]
  },
  {
   "cell_type": "code",
   "execution_count": 8,
   "metadata": {},
   "outputs": [
    {
     "data": {
      "text/plain": [
       "0.9739130434782609"
      ]
     },
     "execution_count": 8,
     "metadata": {},
     "output_type": "execute_result"
    }
   ],
   "source": [
    "model = MultinomialNaiveBayes()\n",
    "model.fit(X_train, y_train)\n",
    "y_predict = model.predict(X_valid)\n",
    "calculate_accuracy(y_predict, y_valid)"
   ]
  },
  {
   "cell_type": "code",
   "execution_count": 11,
   "metadata": {},
   "outputs": [
    {
     "name": "stdout",
     "output_type": "stream",
     "text": [
      "              precision    recall  f1-score   support\n",
      "\n",
      "           0    0.97980   1.00000   0.98980        97\n",
      "           1    0.97059   1.00000   0.98507        99\n",
      "           2    1.00000   1.00000   1.00000       100\n",
      "           3    1.00000   1.00000   1.00000        98\n",
      "           4    0.92708   0.90816   0.91753        98\n",
      "           5    0.97872   0.93878   0.95833        98\n",
      "           6    0.96040   0.97000   0.96517       100\n",
      "\n",
      "    accuracy                        0.97391       690\n",
      "   macro avg    0.97380   0.97385   0.97370       690\n",
      "weighted avg    0.97382   0.97391   0.97375       690\n",
      "\n"
     ]
    }
   ],
   "source": [
    "print(classification_report(y_valid, y_predict, digits=5))"
   ]
  },
  {
   "cell_type": "code",
   "execution_count": 12,
   "metadata": {},
   "outputs": [
    {
     "data": {
      "text/plain": [
       "{0: 'AddToPlaylist',\n",
       " 1: 'BookRestaurant',\n",
       " 2: 'GetWeather',\n",
       " 3: 'RateBook',\n",
       " 4: 'SearchCreativeWork',\n",
       " 5: 'SearchScreeningEvent',\n",
       " 6: 'PlayMusic'}"
      ]
     },
     "execution_count": 12,
     "metadata": {},
     "output_type": "execute_result"
    }
   ],
   "source": [
    "data_loader.index_to_text_label_mapping"
   ]
  },
  {
   "cell_type": "code",
   "execution_count": 16,
   "metadata": {},
   "outputs": [
    {
     "name": "stdout",
     "output_type": "stream",
     "text": [
      "0.9737452137920579\n"
     ]
    }
   ],
   "source": [
    "print(f1_score(y_valid, y_predict, average='weighted'))"
   ]
  },
  {
   "cell_type": "code",
   "execution_count": null,
   "metadata": {},
   "outputs": [],
   "source": []
  }
 ],
 "metadata": {
  "kernelspec": {
   "display_name": "Python 3",
   "language": "python",
   "name": "python3"
  },
  "language_info": {
   "codemirror_mode": {
    "name": "ipython",
    "version": 3
   },
   "file_extension": ".py",
   "mimetype": "text/x-python",
   "name": "python",
   "nbconvert_exporter": "python",
   "pygments_lexer": "ipython3",
   "version": "3.8.3"
  }
 },
 "nbformat": 4,
 "nbformat_minor": 4
}
