{
 "cells": [
  {
   "cell_type": "code",
   "execution_count": 53,
   "metadata": {},
   "outputs": [],
   "source": [
    "import numpy as np\n",
    "import pandas as pd\n",
    "from sklearn.model_selection import train_test_split\n",
    "\n",
    "import collections\n",
    "# import csv"
   ]
  },
  {
   "cell_type": "code",
   "execution_count": 2,
   "metadata": {},
   "outputs": [],
   "source": [
    "data = pd.read_csv('./snips/snips_train_actual.csv', header=None, delimiter='\\t')"
   ]
  },
  {
   "cell_type": "code",
   "execution_count": 3,
   "metadata": {},
   "outputs": [],
   "source": [
    "data.columns = ['labels', 'texts']"
   ]
  },
  {
   "cell_type": "code",
   "execution_count": 4,
   "metadata": {},
   "outputs": [
    {
     "data": {
      "text/plain": [
       "array(['AddToPlaylist', 'BookRestaurant', 'GetWeather', 'RateBook',\n",
       "       'SearchCreativeWork', 'SearchScreeningEvent', 'PlayMusic'],\n",
       "      dtype=object)"
      ]
     },
     "execution_count": 4,
     "metadata": {},
     "output_type": "execute_result"
    }
   ],
   "source": [
    "data['labels'].unique()"
   ]
  },
  {
   "cell_type": "code",
   "execution_count": 5,
   "metadata": {},
   "outputs": [
    {
     "data": {
      "text/plain": [
       "'AddToPlaylist'"
      ]
     },
     "execution_count": 5,
     "metadata": {},
     "output_type": "execute_result"
    }
   ],
   "source": [
    "\n",
    "data['labels'][0]"
   ]
  },
  {
   "cell_type": "code",
   "execution_count": 6,
   "metadata": {},
   "outputs": [
    {
     "data": {
      "text/plain": [
       "{'AddToPlaylist': 0,\n",
       " 'BookRestaurant': 1,\n",
       " 'GetWeather': 2,\n",
       " 'RateBook': 3,\n",
       " 'SearchCreativeWork': 4,\n",
       " 'SearchScreeningEvent': 5,\n",
       " 'PlayMusic': 6}"
      ]
     },
     "execution_count": 6,
     "metadata": {},
     "output_type": "execute_result"
    }
   ],
   "source": [
    "label_map = {}\n",
    "for i, label in enumerate(data['labels'].unique()):\n",
    "    label_map[label] = i\n",
    "    \n",
    "label_map"
   ]
  },
  {
   "cell_type": "code",
   "execution_count": 7,
   "metadata": {},
   "outputs": [],
   "source": [
    "data['classes'] = data['labels'].map(lambda x: label_map[x])"
   ]
  },
  {
   "cell_type": "code",
   "execution_count": 8,
   "metadata": {},
   "outputs": [
    {
     "data": {
      "text/html": [
       "<div>\n",
       "<style scoped>\n",
       "    .dataframe tbody tr th:only-of-type {\n",
       "        vertical-align: middle;\n",
       "    }\n",
       "\n",
       "    .dataframe tbody tr th {\n",
       "        vertical-align: top;\n",
       "    }\n",
       "\n",
       "    .dataframe thead th {\n",
       "        text-align: right;\n",
       "    }\n",
       "</style>\n",
       "<table border=\"1\" class=\"dataframe\">\n",
       "  <thead>\n",
       "    <tr style=\"text-align: right;\">\n",
       "      <th></th>\n",
       "      <th>labels</th>\n",
       "      <th>texts</th>\n",
       "      <th>classes</th>\n",
       "    </tr>\n",
       "  </thead>\n",
       "  <tbody>\n",
       "    <tr>\n",
       "      <th>0</th>\n",
       "      <td>AddToPlaylist</td>\n",
       "      <td>add another song to the cita romántica playlist</td>\n",
       "      <td>0</td>\n",
       "    </tr>\n",
       "    <tr>\n",
       "      <th>1</th>\n",
       "      <td>AddToPlaylist</td>\n",
       "      <td>add clem burke in my playlist pre-party r&amp;b jams</td>\n",
       "      <td>0</td>\n",
       "    </tr>\n",
       "    <tr>\n",
       "      <th>2</th>\n",
       "      <td>AddToPlaylist</td>\n",
       "      <td>add live from aragon ballroom to trapeo</td>\n",
       "      <td>0</td>\n",
       "    </tr>\n",
       "    <tr>\n",
       "      <th>3</th>\n",
       "      <td>AddToPlaylist</td>\n",
       "      <td>add unite and win to my night out</td>\n",
       "      <td>0</td>\n",
       "    </tr>\n",
       "    <tr>\n",
       "      <th>4</th>\n",
       "      <td>AddToPlaylist</td>\n",
       "      <td>add track to my digster future hits</td>\n",
       "      <td>0</td>\n",
       "    </tr>\n",
       "    <tr>\n",
       "      <th>...</th>\n",
       "      <td>...</td>\n",
       "      <td>...</td>\n",
       "      <td>...</td>\n",
       "    </tr>\n",
       "    <tr>\n",
       "      <th>13779</th>\n",
       "      <td>PlayMusic</td>\n",
       "      <td>play the most popular track from valery alexan...</td>\n",
       "      <td>6</td>\n",
       "    </tr>\n",
       "    <tr>\n",
       "      <th>13780</th>\n",
       "      <td>PlayMusic</td>\n",
       "      <td>play some good movement music by brian littrel...</td>\n",
       "      <td>6</td>\n",
       "    </tr>\n",
       "    <tr>\n",
       "      <th>13781</th>\n",
       "      <td>PlayMusic</td>\n",
       "      <td>play 2007 tunes by bunny berigan</td>\n",
       "      <td>6</td>\n",
       "    </tr>\n",
       "    <tr>\n",
       "      <th>13782</th>\n",
       "      <td>PlayMusic</td>\n",
       "      <td>play a ballad form 2014 by double on google music</td>\n",
       "      <td>6</td>\n",
       "    </tr>\n",
       "    <tr>\n",
       "      <th>13783</th>\n",
       "      <td>PlayMusic</td>\n",
       "      <td>play roy orbison tunes no</td>\n",
       "      <td>6</td>\n",
       "    </tr>\n",
       "  </tbody>\n",
       "</table>\n",
       "<p>13784 rows × 3 columns</p>\n",
       "</div>"
      ],
      "text/plain": [
       "              labels                                              texts  \\\n",
       "0      AddToPlaylist    add another song to the cita romántica playlist   \n",
       "1      AddToPlaylist   add clem burke in my playlist pre-party r&b jams   \n",
       "2      AddToPlaylist            add live from aragon ballroom to trapeo   \n",
       "3      AddToPlaylist                  add unite and win to my night out   \n",
       "4      AddToPlaylist                add track to my digster future hits   \n",
       "...              ...                                                ...   \n",
       "13779      PlayMusic  play the most popular track from valery alexan...   \n",
       "13780      PlayMusic  play some good movement music by brian littrel...   \n",
       "13781      PlayMusic                   play 2007 tunes by bunny berigan   \n",
       "13782      PlayMusic  play a ballad form 2014 by double on google music   \n",
       "13783      PlayMusic                          play roy orbison tunes no   \n",
       "\n",
       "       classes  \n",
       "0            0  \n",
       "1            0  \n",
       "2            0  \n",
       "3            0  \n",
       "4            0  \n",
       "...        ...  \n",
       "13779        6  \n",
       "13780        6  \n",
       "13781        6  \n",
       "13782        6  \n",
       "13783        6  \n",
       "\n",
       "[13784 rows x 3 columns]"
      ]
     },
     "execution_count": 8,
     "metadata": {},
     "output_type": "execute_result"
    }
   ],
   "source": [
    "data"
   ]
  },
  {
   "cell_type": "code",
   "execution_count": 9,
   "metadata": {},
   "outputs": [
    {
     "data": {
      "text/plain": [
       "PlayMusic               2000\n",
       "GetWeather              2000\n",
       "BookRestaurant          1973\n",
       "SearchScreeningEvent    1959\n",
       "RateBook                1956\n",
       "SearchCreativeWork      1954\n",
       "AddToPlaylist           1942\n",
       "Name: labels, dtype: int64"
      ]
     },
     "execution_count": 9,
     "metadata": {},
     "output_type": "execute_result"
    }
   ],
   "source": [
    "data['labels'].value_counts()"
   ]
  },
  {
   "cell_type": "code",
   "execution_count": 10,
   "metadata": {},
   "outputs": [
    {
     "data": {
      "text/plain": [
       "1965"
      ]
     },
     "execution_count": 10,
     "metadata": {},
     "output_type": "execute_result"
    }
   ],
   "source": [
    "np.random.choice(range(0, 2000), replace = False)"
   ]
  },
  {
   "cell_type": "code",
   "execution_count": 11,
   "metadata": {},
   "outputs": [],
   "source": []
  },
  {
   "cell_type": "code",
   "execution_count": 12,
   "metadata": {},
   "outputs": [],
   "source": [
    "y = data['classes']\n",
    "X = data['texts']"
   ]
  },
  {
   "cell_type": "code",
   "execution_count": 13,
   "metadata": {},
   "outputs": [],
   "source": [
    "X_train, X_test, y_train, y_test = train_test_split(X, y, test_size=0.05, random_state=0, stratify=y)"
   ]
  },
  {
   "cell_type": "code",
   "execution_count": 14,
   "metadata": {},
   "outputs": [
    {
     "data": {
      "text/plain": [
       "6    1900\n",
       "2    1900\n",
       "1    1874\n",
       "5    1861\n",
       "3    1858\n",
       "4    1856\n",
       "0    1845\n",
       "Name: classes, dtype: int64"
      ]
     },
     "execution_count": 14,
     "metadata": {},
     "output_type": "execute_result"
    }
   ],
   "source": [
    "y_train.value_counts()"
   ]
  },
  {
   "cell_type": "code",
   "execution_count": 15,
   "metadata": {},
   "outputs": [
    {
     "data": {
      "text/plain": [
       "6    100\n",
       "2    100\n",
       "1     99\n",
       "5     98\n",
       "4     98\n",
       "3     98\n",
       "0     97\n",
       "Name: classes, dtype: int64"
      ]
     },
     "execution_count": 15,
     "metadata": {},
     "output_type": "execute_result"
    }
   ],
   "source": [
    "y_test.value_counts()"
   ]
  },
  {
   "cell_type": "code",
   "execution_count": 21,
   "metadata": {},
   "outputs": [
    {
     "data": {
      "text/plain": [
       "array([0, 4, 2, ..., 2, 0, 0])"
      ]
     },
     "execution_count": 21,
     "metadata": {},
     "output_type": "execute_result"
    }
   ],
   "source": [
    "y_train.to_numpy()"
   ]
  },
  {
   "cell_type": "code",
   "execution_count": 22,
   "metadata": {},
   "outputs": [],
   "source": [
    "# list(X_train)"
   ]
  },
  {
   "cell_type": "code",
   "execution_count": 45,
   "metadata": {},
   "outputs": [],
   "source": [
    "class SnipsDataLoader():\n",
    "    def __init__(self, train_path, valid_path=None, test_path=None):\n",
    "        self.train_data = self.load_dataset(train_path)\n",
    "        self.valid_data = self.load_dataset(valid_path) if valid_path != None else None\n",
    "        self.test_data = self.load_dataset(test_path) if test_path != None else None\n",
    "        \n",
    "        self.create_label_mapping()\n",
    "        \n",
    "    def load_dataset(self, data_path):\n",
    "        data = pd.read_csv(data_path, header=None, delimiter='\\t')\n",
    "        data.columns = ['labels', 'texts']\n",
    "        output = {'X': data['texts'], 'y': data['labels']}\n",
    "        return output\n",
    "        \n",
    "    def create_label_mapping(self):\n",
    "        self.text_to_index_label_mapping = {}\n",
    "        self.index_to_text_label_mapping = {}\n",
    "        for i, label in enumerate(self.train_data['y'].unique()):\n",
    "            self.text_to_index_label_mapping[label] = i\n",
    "            self.index_to_text_label_mapping[i] = label\n",
    "        \n",
    "        self.train_data['y'] = \\\n",
    "            self.train_data['y'].map(lambda x: self.text_to_index_label_mapping[x])\n",
    "        if self.valid_data:\n",
    "            self.valid_data['y'] = \\\n",
    "                self.valid_data['y'].map(lambda x: self.text_to_index_label_mapping[x])\n",
    "        if self.test_data:\n",
    "            self.test_data['y'] = \\\n",
    "                self.test_data['y'].map(lambda x: self.text_to_index_label_mapping[x])\n",
    "    \n",
    "    def split_train_valid(self, valid_size, keep_class_ratios=True, random_state=0):\n",
    "        X, y = self.train_data['X'], self.train_data['y']\n",
    "        if keep_class_ratios:\n",
    "            X_train, X_valid, y_train, y_valid = \\\n",
    "                train_test_split(X, y, test_size=valid_size, random_state=random_state, stratify=y)\n",
    "        else:\n",
    "            X_train, X_valid, y_train, y_valid = \\\n",
    "                train_test_split(X, y, test_size=valid_size, random_state=random_state)\n",
    "            \n",
    "        self.train_data = {'X': X_train, 'y': y_train}\n",
    "        self.valid_data = {'X': X_valid, 'y': y_valid}\n",
    "    \n",
    "    def get_train_data(self):\n",
    "        return list(self.train_data['X']), self.train_data['y'].to_numpy()\n",
    "    \n",
    "    def get_valid_data(self):\n",
    "        return list(self.valid_data['X']), self.valid_data['y'].to_numpy()\n",
    "    \n",
    "    def get_test_data(self):\n",
    "        return list(self.test_data['X']), self.test_data['y'].to_numpy()"
   ]
  },
  {
   "cell_type": "code",
   "execution_count": 46,
   "metadata": {},
   "outputs": [],
   "source": [
    "TRAIN_PATH = './snips/snips_train_actual.csv'\n",
    "VALID_PATH = './snips/snips_test_actual.csv'"
   ]
  },
  {
   "cell_type": "code",
   "execution_count": 47,
   "metadata": {},
   "outputs": [],
   "source": [
    "data_loader = SnipsDataLoader(TRAIN_PATH, VALID_PATH)\n",
    "data_loader.split_train_valid(valid_size=0.05, keep_class_ratios=True)"
   ]
  },
  {
   "cell_type": "code",
   "execution_count": null,
   "metadata": {},
   "outputs": [],
   "source": []
  },
  {
   "cell_type": "code",
   "execution_count": 48,
   "metadata": {},
   "outputs": [
    {
     "data": {
      "text/plain": [
       "True"
      ]
     },
     "execution_count": 48,
     "metadata": {},
     "output_type": "execute_result"
    }
   ],
   "source": [
    "len(X_train) == len(data_loader.train_data['X'])"
   ]
  },
  {
   "cell_type": "code",
   "execution_count": 49,
   "metadata": {},
   "outputs": [
    {
     "data": {
      "text/plain": [
       "6    100\n",
       "2    100\n",
       "1     99\n",
       "5     98\n",
       "4     98\n",
       "3     98\n",
       "0     97\n",
       "Name: labels, dtype: int64"
      ]
     },
     "execution_count": 49,
     "metadata": {},
     "output_type": "execute_result"
    }
   ],
   "source": [
    "data_loader.valid_data['y'].value_counts()"
   ]
  },
  {
   "cell_type": "code",
   "execution_count": 56,
   "metadata": {},
   "outputs": [],
   "source": [
    "X_train, y_train = data_loader.get_train_data()\n",
    "X_valid, y_valid = data_loader.get_valid_data()"
   ]
  },
  {
   "cell_type": "code",
   "execution_count": 61,
   "metadata": {},
   "outputs": [],
   "source": [
    "class FeatureExtractor():\n",
    "    def __init__(self, X_train, X_valid=None, X_test=None):\n",
    "        self.X_train = X_train\n",
    "        self.X_valid = X_valid\n",
    "        self.X_test = X_test\n",
    "    \n",
    "    def extract_features(self, keep_words_threshold=5):\n",
    "        self.keep_words_threshold = keep_words_threshold\n",
    "        \n",
    "        self.X_train = self.preprocess_data(self.X_train)\n",
    "        if self.X_valid:\n",
    "            self.X_valid = self.preprocess_data(self.X_valid)\n",
    "        if self.X_test:\n",
    "            self.X_test = self.preprocess_data(self.X_test)\n",
    "        \n",
    "        self.create_vocab(self.X_train)\n",
    "        \n",
    "        self.X_train = self.create_encodings(self.X_train)\n",
    "        if self.X_valid:\n",
    "            self.X_valid = self.create_encodings(self.X_valid)\n",
    "        if self.X_test:\n",
    "            self.X_test = self.create_encodings(self.X_test)\n",
    "    \n",
    "    def preprocess_data(self, text_data):\n",
    "        output = []\n",
    "        for example in text_data:\n",
    "            words = [word.lower() for word in example.split()]\n",
    "            output.append(words)\n",
    "        return output\n",
    "    \n",
    "    def create_vocab(self, text_data):\n",
    "        word_occurences = collections.defaultdict(int)\n",
    "        for example in text_data:\n",
    "            word_counts = self.get_word_counts(example)\n",
    "            for word in word_counts.keys():\n",
    "                word_occurences[word] += 1\n",
    "        \n",
    "        vocab_words = [word for word in sorted(word_occurences.keys()) \n",
    "                       if word_occurences[word] >= self.keep_words_threshold]\n",
    "        self.vocab = {word: index for index, word in enumerate(vocab_words)}\n",
    "        self.vocab_size = len(self.vocab)\n",
    "        \n",
    "    def create_encodings(self, text_data):\n",
    "        num_examples = len(text_data)\n",
    "        encodings = np.zeros((num_examples, self.vocab_size))\n",
    "        \n",
    "        for row, example in enumerate(text_data):\n",
    "            word_counts = self.get_word_counts(example)\n",
    "            for word, count in word_counts.items():\n",
    "                if word in self.vocab:\n",
    "                    col = self.vocab[word]\n",
    "                    encodings[row, col] = count\n",
    "                    \n",
    "        return encodings\n",
    "                    \n",
    "    def get_word_counts(self, word_list):\n",
    "        counts = collections.defaultdict(int)\n",
    "        for word in word_list:\n",
    "            counts[word] += 1\n",
    "        return counts\n",
    "    \n",
    "    def get_train_encodings(self):\n",
    "        return self.X_train\n",
    "    \n",
    "    def get_valid_encodings(self):\n",
    "        return self.X_valid\n",
    "    \n",
    "    def get_test_encodings(self):\n",
    "        return self.X_test"
   ]
  },
  {
   "cell_type": "code",
   "execution_count": 62,
   "metadata": {},
   "outputs": [],
   "source": [
    "feature_extractor = FeatureExtractor(X_train, X_valid)\n",
    "feature_extractor.extract_features(keep_words_threshold=5)\n",
    "X_train = feature_extractor.get_train_encodings()\n",
    "X_valid = feature_extractor.get_valid_encodings()"
   ]
  },
  {
   "cell_type": "code",
   "execution_count": 66,
   "metadata": {},
   "outputs": [
    {
     "data": {
      "text/plain": [
       "True"
      ]
     },
     "execution_count": 66,
     "metadata": {},
     "output_type": "execute_result"
    }
   ],
   "source": [
    "len(X_valid) == len(y_valid)"
   ]
  },
  {
   "cell_type": "code",
   "execution_count": 70,
   "metadata": {},
   "outputs": [
    {
     "name": "stdout",
     "output_type": "stream",
     "text": [
      "(13094, 1641)\n"
     ]
    }
   ],
   "source": [
    "print(X_train.shape)"
   ]
  },
  {
   "cell_type": "code",
   "execution_count": null,
   "metadata": {},
   "outputs": [],
   "source": []
  }
 ],
 "metadata": {
  "kernelspec": {
   "display_name": "Python 3",
   "language": "python",
   "name": "python3"
  },
  "language_info": {
   "codemirror_mode": {
    "name": "ipython",
    "version": 3
   },
   "file_extension": ".py",
   "mimetype": "text/x-python",
   "name": "python",
   "nbconvert_exporter": "python",
   "pygments_lexer": "ipython3",
   "version": "3.8.3"
  }
 },
 "nbformat": 4,
 "nbformat_minor": 4
}
